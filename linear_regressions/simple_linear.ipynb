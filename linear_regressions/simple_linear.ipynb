{
 "cells": [
  {
   "cell_type": "code",
   "execution_count": 48,
   "metadata": {},
   "outputs": [],
   "source": [
    "import pandas as pd\n",
    "import numpy as np\n",
    "import matplotlib.pyplot as plt"
   ]
  },
  {
   "cell_type": "code",
   "execution_count": 49,
   "metadata": {},
   "outputs": [
    {
     "name": "stdout",
     "output_type": "stream",
     "text": [
      "<class 'pandas.core.frame.DataFrame'>\n",
      "RangeIndex: 25 entries, 0 to 24\n",
      "Data columns (total 2 columns):\n",
      " #   Column  Non-Null Count  Dtype  \n",
      "---  ------  --------------  -----  \n",
      " 0   Hours   25 non-null     float64\n",
      " 1   Scores  25 non-null     int64  \n",
      "dtypes: float64(1), int64(1)\n",
      "memory usage: 528.0 bytes\n"
     ]
    }
   ],
   "source": [
    "df=pd.read_csv('student_scores.csv')\n",
    "df.info()\n",
    "X=df['Hours']\n",
    "Y=df['Scores']"
   ]
  },
  {
   "cell_type": "code",
   "execution_count": 50,
   "metadata": {},
   "outputs": [],
   "source": [
    "class linear_reggression:\n",
    "    def fit(self,x,y):\n",
    "        x_mean=np.mean(x)\n",
    "        y_mean=np.mean(y)\n",
    "        self.slope= np.sum((x-x_mean)@(y-y_mean))/np.sum((x-x_mean)@(x-x_mean))\n",
    "        self.intercept =y_mean -(self.slope * x_mean)\n",
    "        return self\n",
    "    \n",
    "    def predict(self,x):\n",
    "        return self.intercept +self.slope*x"
   ]
  },
  {
   "cell_type": "code",
   "execution_count": null,
   "metadata": {},
   "outputs": [],
   "source": []
  },
  {
   "cell_type": "code",
   "execution_count": 46,
   "metadata": {},
   "outputs": [],
   "source": [
    "model=linear_reggression()\n",
    "model.fit(df['Hours'],df['Scores'])\n",
    "predicted=model.predict(df['Hours'])"
   ]
  },
  {
   "cell_type": "code",
   "execution_count": 55,
   "metadata": {},
   "outputs": [
    {
     "data": {
      "text/plain": [
       "[<matplotlib.lines.Line2D at 0x7f5ecd6eb880>]"
      ]
     },
     "execution_count": 55,
     "metadata": {},
     "output_type": "execute_result"
    },
    {
     "data": {
      "image/png": "[encoded data removed]",
      "text/plain": [
       "<Figure size 640x480 with 1 Axes>"
      ]
     },
     "metadata": {},
     "output_type": "display_data"
    }
   ],
   "source": [
    "plt.scatter(X,Y,color='r')\n",
    "plt.plot(X,predicted)"
   ]
  },
  {
   "cell_type": "code",
   "execution_count": 61,
   "metadata": {},
   "outputs": [
    {
     "name": "stdout",
     "output_type": "stream",
     "text": [
      "5.374265578592619\n"
     ]
    },
    {
     "ename": "IndexError",
     "evalue": "tuple index out of range",
     "output_type": "error",
     "traceback": [
      "\u001b[0;31m---------------------------------------------------------------------------\u001b[0m",
      "\u001b[0;31mIndexError\u001b[0m                                Traceback (most recent call last)",
      "Cell \u001b[0;32mIn[61], line 7\u001b[0m\n\u001b[1;32m      5\u001b[0m rmse\u001b[39m=\u001b[39mnp\u001b[39m.\u001b[39msqrt(sse)\n\u001b[1;32m      6\u001b[0m \u001b[39mprint\u001b[39m(rmse)\n\u001b[0;32m----> 7\u001b[0m y_mean_diff\u001b[39m=\u001b[39mY\u001b[39m-\u001b[39mnp\u001b[39m.\u001b[39;49mmean(Y) \u001b[39m@\u001b[39;49m Y\u001b[39m-\u001b[39mnp\u001b[39m.\u001b[39mmean(Y)\n\u001b[1;32m      8\u001b[0m ss\u001b[39m=\u001b[39merror\u001b[39m@error\u001b[39m\n\u001b[1;32m      9\u001b[0m r2\u001b[39m=\u001b[39m\u001b[39m1\u001b[39m\u001b[39m-\u001b[39mss\u001b[39m/\u001b[39my_mean_diff\n",
      "File \u001b[0;32m~/anaconda3/lib/python3.9/site-packages/pandas/core/series.py:2835\u001b[0m, in \u001b[0;36mSeries.__rmatmul__\u001b[0;34m(self, other)\u001b[0m\n\u001b[1;32m   2831\u001b[0m \u001b[39mdef\u001b[39;00m \u001b[39m__rmatmul__\u001b[39m(\u001b[39mself\u001b[39m, other):\n\u001b[1;32m   2832\u001b[0m \u001b[39m    \u001b[39m\u001b[39m\"\"\"\u001b[39;00m\n\u001b[1;32m   2833\u001b[0m \u001b[39m    Matrix multiplication using binary `@` operator in Python>=3.5.\u001b[39;00m\n\u001b[1;32m   2834\u001b[0m \u001b[39m    \"\"\"\u001b[39;00m\n\u001b[0;32m-> 2835\u001b[0m     \u001b[39mreturn\u001b[39;00m \u001b[39mself\u001b[39;49m\u001b[39m.\u001b[39;49mdot(np\u001b[39m.\u001b[39;49mtranspose(other))\n",
      "File \u001b[0;32m~/anaconda3/lib/python3.9/site-packages/pandas/core/series.py:2809\u001b[0m, in \u001b[0;36mSeries.dot\u001b[0;34m(self, other)\u001b[0m\n\u001b[1;32m   2807\u001b[0m     lvals \u001b[39m=\u001b[39m \u001b[39mself\u001b[39m\u001b[39m.\u001b[39mvalues\n\u001b[1;32m   2808\u001b[0m     rvals \u001b[39m=\u001b[39m np\u001b[39m.\u001b[39masarray(other)\n\u001b[0;32m-> 2809\u001b[0m     \u001b[39mif\u001b[39;00m lvals\u001b[39m.\u001b[39mshape[\u001b[39m0\u001b[39m] \u001b[39m!=\u001b[39m rvals\u001b[39m.\u001b[39;49mshape[\u001b[39m0\u001b[39;49m]:\n\u001b[1;32m   2810\u001b[0m         \u001b[39mraise\u001b[39;00m \u001b[39mException\u001b[39;00m(\n\u001b[1;32m   2811\u001b[0m             \u001b[39mf\u001b[39m\u001b[39m\"\u001b[39m\u001b[39mDot product shape mismatch, \u001b[39m\u001b[39m{\u001b[39;00mlvals\u001b[39m.\u001b[39mshape\u001b[39m}\u001b[39;00m\u001b[39m vs \u001b[39m\u001b[39m{\u001b[39;00mrvals\u001b[39m.\u001b[39mshape\u001b[39m}\u001b[39;00m\u001b[39m\"\u001b[39m\n\u001b[1;32m   2812\u001b[0m         )\n\u001b[1;32m   2814\u001b[0m \u001b[39mif\u001b[39;00m \u001b[39misinstance\u001b[39m(other, ABCDataFrame):\n",
      "\u001b[0;31mIndexError\u001b[0m: tuple index out of range"
     ]
    }
   ],
   "source": [
    "error = Y-predicted\n",
    "error_s=error@error\n",
    "sse=error_s/df.shape[0]\n",
    "\n",
    "rmse=np.sqrt(sse)\n",
    "print(rmse)\n",
    "y_mean_diff=Y-np.mean(Y) @ Y-np.mean(Y)\n",
    "ss=error@error\n",
    "r2=1-ss/y_mean_diff\n",
    "print(r2)"
   ]
  },
  {
   "cell_type": "code",
   "execution_count": null,
   "metadata": {},
   "outputs": [],
   "source": []
  }
 ],
 "metadata": {
  "kernelspec": {
   "display_name": "base",
   "language": "python",
   "name": "python3"
  },
  "language_info": {
   "codemirror_mode": {
    "name": "ipython",
    "version": 3
   },
   "file_extension": ".py",
   "mimetype": "text/x-python",
   "name": "python",
   "nbconvert_exporter": "python",
   "pygments_lexer": "ipython3",
   "version": "3.9.12"
  },
  "orig_nbformat": 4
 },
 "nbformat": 4,
 "nbformat_minor": 2
}
